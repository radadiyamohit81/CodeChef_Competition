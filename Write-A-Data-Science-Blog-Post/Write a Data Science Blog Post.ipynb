{
 "cells": [
  {
   "cell_type": "markdown",
   "metadata": {},
   "source": [
    "# Should you find a job in the Western World?"
   ]
  },
  {
   "cell_type": "markdown",
   "metadata": {},
   "source": [
    "### Business Understanding\n",
    "For this project, I was interestested in using Stack Overflow data from 2017 to better understand:\n",
    "\n",
    "- As a programmer, should I go to work in the western world (e.g. America, Europe, etc.) or remain in the eastern world (e.g. India, China, etc.)?\n",
    "- What is the salary difference in the western world and in the eastern world?\n",
    "- How are the programmers satisfying about their job between these two sides of the world?\n",
    "- Are there more jobs opportunity in the western world than that in the eastern world?"
   ]
  },
  {
   "cell_type": "code",
   "execution_count": 1,
   "metadata": {},
   "outputs": [],
   "source": [
    "import numpy as np\n",
    "import pandas as pd\n",
    "import math\n",
    "import matplotlib.pyplot as plt\n",
    "%matplotlib inline"
   ]
  },
  {
   "cell_type": "markdown",
   "metadata": {},
   "source": [
    "### Data Understanding\n",
    "First, we provide a general view to our data.\n",
    "for example, what kind of developer they are and where are they come from.\n",
    "Also, let's have a quick look on their employment status and how they think about their salary.\n"
   ]
  },
  {
   "cell_type": "code",
   "execution_count": 2,
   "metadata": {},
   "outputs": [
    {
     "data": {
      "text/html": [
       "<div>\n",
       "<style scoped>\n",
       "    .dataframe tbody tr th:only-of-type {\n",
       "        vertical-align: middle;\n",
       "    }\n",
       "\n",
       "    .dataframe tbody tr th {\n",
       "        vertical-align: top;\n",
       "    }\n",
       "\n",
       "    .dataframe thead th {\n",
       "        text-align: right;\n",
       "    }\n",
       "</style>\n",
       "<table border=\"1\" class=\"dataframe\">\n",
       "  <thead>\n",
       "    <tr style=\"text-align: right;\">\n",
       "      <th></th>\n",
       "      <th>Respondent</th>\n",
       "      <th>Professional</th>\n",
       "      <th>ProgramHobby</th>\n",
       "      <th>Country</th>\n",
       "      <th>University</th>\n",
       "      <th>EmploymentStatus</th>\n",
       "      <th>FormalEducation</th>\n",
       "      <th>MajorUndergrad</th>\n",
       "      <th>HomeRemote</th>\n",
       "      <th>CompanySize</th>\n",
       "      <th>...</th>\n",
       "      <th>StackOverflowMakeMoney</th>\n",
       "      <th>Gender</th>\n",
       "      <th>HighestEducationParents</th>\n",
       "      <th>Race</th>\n",
       "      <th>SurveyLong</th>\n",
       "      <th>QuestionsInteresting</th>\n",
       "      <th>QuestionsConfusing</th>\n",
       "      <th>InterestedAnswers</th>\n",
       "      <th>Salary</th>\n",
       "      <th>ExpectedSalary</th>\n",
       "    </tr>\n",
       "  </thead>\n",
       "  <tbody>\n",
       "    <tr>\n",
       "      <th>0</th>\n",
       "      <td>1</td>\n",
       "      <td>Student</td>\n",
       "      <td>Yes, both</td>\n",
       "      <td>United States</td>\n",
       "      <td>No</td>\n",
       "      <td>Not employed, and not looking for work</td>\n",
       "      <td>Secondary school</td>\n",
       "      <td>NaN</td>\n",
       "      <td>NaN</td>\n",
       "      <td>NaN</td>\n",
       "      <td>...</td>\n",
       "      <td>Strongly disagree</td>\n",
       "      <td>Male</td>\n",
       "      <td>High school</td>\n",
       "      <td>White or of European descent</td>\n",
       "      <td>Strongly disagree</td>\n",
       "      <td>Strongly agree</td>\n",
       "      <td>Disagree</td>\n",
       "      <td>Strongly agree</td>\n",
       "      <td>NaN</td>\n",
       "      <td>NaN</td>\n",
       "    </tr>\n",
       "    <tr>\n",
       "      <th>1</th>\n",
       "      <td>2</td>\n",
       "      <td>Student</td>\n",
       "      <td>Yes, both</td>\n",
       "      <td>United Kingdom</td>\n",
       "      <td>Yes, full-time</td>\n",
       "      <td>Employed part-time</td>\n",
       "      <td>Some college/university study without earning ...</td>\n",
       "      <td>Computer science or software engineering</td>\n",
       "      <td>More than half, but not all, the time</td>\n",
       "      <td>20 to 99 employees</td>\n",
       "      <td>...</td>\n",
       "      <td>Strongly disagree</td>\n",
       "      <td>Male</td>\n",
       "      <td>A master's degree</td>\n",
       "      <td>White or of European descent</td>\n",
       "      <td>Somewhat agree</td>\n",
       "      <td>Somewhat agree</td>\n",
       "      <td>Disagree</td>\n",
       "      <td>Strongly agree</td>\n",
       "      <td>NaN</td>\n",
       "      <td>37500.0</td>\n",
       "    </tr>\n",
       "    <tr>\n",
       "      <th>2</th>\n",
       "      <td>3</td>\n",
       "      <td>Professional developer</td>\n",
       "      <td>Yes, both</td>\n",
       "      <td>United Kingdom</td>\n",
       "      <td>No</td>\n",
       "      <td>Employed full-time</td>\n",
       "      <td>Bachelor's degree</td>\n",
       "      <td>Computer science or software engineering</td>\n",
       "      <td>Less than half the time, but at least one day ...</td>\n",
       "      <td>10,000 or more employees</td>\n",
       "      <td>...</td>\n",
       "      <td>Disagree</td>\n",
       "      <td>Male</td>\n",
       "      <td>A professional degree</td>\n",
       "      <td>White or of European descent</td>\n",
       "      <td>Somewhat agree</td>\n",
       "      <td>Agree</td>\n",
       "      <td>Disagree</td>\n",
       "      <td>Agree</td>\n",
       "      <td>113750.0</td>\n",
       "      <td>NaN</td>\n",
       "    </tr>\n",
       "    <tr>\n",
       "      <th>3</th>\n",
       "      <td>4</td>\n",
       "      <td>Professional non-developer who sometimes write...</td>\n",
       "      <td>Yes, both</td>\n",
       "      <td>United States</td>\n",
       "      <td>No</td>\n",
       "      <td>Employed full-time</td>\n",
       "      <td>Doctoral degree</td>\n",
       "      <td>A non-computer-focused engineering discipline</td>\n",
       "      <td>Less than half the time, but at least one day ...</td>\n",
       "      <td>10,000 or more employees</td>\n",
       "      <td>...</td>\n",
       "      <td>Disagree</td>\n",
       "      <td>Male</td>\n",
       "      <td>A doctoral degree</td>\n",
       "      <td>White or of European descent</td>\n",
       "      <td>Agree</td>\n",
       "      <td>Agree</td>\n",
       "      <td>Somewhat agree</td>\n",
       "      <td>Strongly agree</td>\n",
       "      <td>NaN</td>\n",
       "      <td>NaN</td>\n",
       "    </tr>\n",
       "    <tr>\n",
       "      <th>4</th>\n",
       "      <td>5</td>\n",
       "      <td>Professional developer</td>\n",
       "      <td>Yes, I program as a hobby</td>\n",
       "      <td>Switzerland</td>\n",
       "      <td>No</td>\n",
       "      <td>Employed full-time</td>\n",
       "      <td>Master's degree</td>\n",
       "      <td>Computer science or software engineering</td>\n",
       "      <td>Never</td>\n",
       "      <td>10 to 19 employees</td>\n",
       "      <td>...</td>\n",
       "      <td>NaN</td>\n",
       "      <td>NaN</td>\n",
       "      <td>NaN</td>\n",
       "      <td>NaN</td>\n",
       "      <td>NaN</td>\n",
       "      <td>NaN</td>\n",
       "      <td>NaN</td>\n",
       "      <td>NaN</td>\n",
       "      <td>NaN</td>\n",
       "      <td>NaN</td>\n",
       "    </tr>\n",
       "  </tbody>\n",
       "</table>\n",
       "<p>5 rows × 154 columns</p>\n",
       "</div>"
      ],
      "text/plain": [
       "   Respondent                                       Professional  \\\n",
       "0           1                                            Student   \n",
       "1           2                                            Student   \n",
       "2           3                             Professional developer   \n",
       "3           4  Professional non-developer who sometimes write...   \n",
       "4           5                             Professional developer   \n",
       "\n",
       "                ProgramHobby         Country      University  \\\n",
       "0                  Yes, both   United States              No   \n",
       "1                  Yes, both  United Kingdom  Yes, full-time   \n",
       "2                  Yes, both  United Kingdom              No   \n",
       "3                  Yes, both   United States              No   \n",
       "4  Yes, I program as a hobby     Switzerland              No   \n",
       "\n",
       "                         EmploymentStatus  \\\n",
       "0  Not employed, and not looking for work   \n",
       "1                      Employed part-time   \n",
       "2                      Employed full-time   \n",
       "3                      Employed full-time   \n",
       "4                      Employed full-time   \n",
       "\n",
       "                                     FormalEducation  \\\n",
       "0                                   Secondary school   \n",
       "1  Some college/university study without earning ...   \n",
       "2                                  Bachelor's degree   \n",
       "3                                    Doctoral degree   \n",
       "4                                    Master's degree   \n",
       "\n",
       "                                  MajorUndergrad  \\\n",
       "0                                            NaN   \n",
       "1       Computer science or software engineering   \n",
       "2       Computer science or software engineering   \n",
       "3  A non-computer-focused engineering discipline   \n",
       "4       Computer science or software engineering   \n",
       "\n",
       "                                          HomeRemote  \\\n",
       "0                                                NaN   \n",
       "1              More than half, but not all, the time   \n",
       "2  Less than half the time, but at least one day ...   \n",
       "3  Less than half the time, but at least one day ...   \n",
       "4                                              Never   \n",
       "\n",
       "                CompanySize  ... StackOverflowMakeMoney Gender  \\\n",
       "0                       NaN  ...      Strongly disagree   Male   \n",
       "1        20 to 99 employees  ...      Strongly disagree   Male   \n",
       "2  10,000 or more employees  ...               Disagree   Male   \n",
       "3  10,000 or more employees  ...               Disagree   Male   \n",
       "4        10 to 19 employees  ...                    NaN    NaN   \n",
       "\n",
       "  HighestEducationParents                          Race         SurveyLong  \\\n",
       "0             High school  White or of European descent  Strongly disagree   \n",
       "1       A master's degree  White or of European descent     Somewhat agree   \n",
       "2   A professional degree  White or of European descent     Somewhat agree   \n",
       "3       A doctoral degree  White or of European descent              Agree   \n",
       "4                     NaN                           NaN                NaN   \n",
       "\n",
       "  QuestionsInteresting QuestionsConfusing InterestedAnswers    Salary  \\\n",
       "0       Strongly agree           Disagree    Strongly agree       NaN   \n",
       "1       Somewhat agree           Disagree    Strongly agree       NaN   \n",
       "2                Agree           Disagree             Agree  113750.0   \n",
       "3                Agree     Somewhat agree    Strongly agree       NaN   \n",
       "4                  NaN                NaN               NaN       NaN   \n",
       "\n",
       "   ExpectedSalary  \n",
       "0             NaN  \n",
       "1         37500.0  \n",
       "2             NaN  \n",
       "3             NaN  \n",
       "4             NaN  \n",
       "\n",
       "[5 rows x 154 columns]"
      ]
     },
     "execution_count": 2,
     "metadata": {},
     "output_type": "execute_result"
    }
   ],
   "source": [
    "#Read the data and glimpse it\n",
    "df = pd.read_csv('survey_results_public.csv')\n",
    "df.head()"
   ]
  },
  {
   "cell_type": "code",
   "execution_count": 3,
   "metadata": {},
   "outputs": [],
   "source": [
    "# Data Understanding\n",
    "def display_bar_chart(df, column, title):\n",
    "    '''\n",
    "    \n",
    "    Displays a bar chart with a title\n",
    "    \n",
    "    Parameters:\n",
    "    df: a dataframe\n",
    "    column: the column which we want to show\n",
    "    title: the title of the chart\n",
    "    \n",
    "    Returns:\n",
    "    None\n",
    "    \n",
    "    '''\n",
    "    status_vals = df[column].value_counts()\n",
    "    (status_vals[:10]/df.shape[0]).plot(kind=\"bar\");\n",
    "    plt.title(title);"
   ]
  },
  {
   "cell_type": "code",
   "execution_count": 4,
   "metadata": {},
   "outputs": [
    {
     "data": {
      "image/png": "[encoded data removed]",
      "text/plain": [
       "<Figure size 432x288 with 1 Axes>"
      ]
     },
     "metadata": {
      "needs_background": "light"
     },
     "output_type": "display_data"
    }
   ],
   "source": [
    "#Provide a pandas series of the counts for each Professional status\n",
    "display_bar_chart(df, \"Professional\", \"What kind of developer are you?\")"
   ]
  },
  {
   "cell_type": "code",
   "execution_count": 5,
   "metadata": {},
   "outputs": [
    {
     "data": {
      "image/png": "[encoded data removed]",
      "text/plain": [
       "<Figure size 432x288 with 1 Axes>"
      ]
     },
     "metadata": {
      "needs_background": "light"
     },
     "output_type": "display_data"
    }
   ],
   "source": [
    "#Provide a pandas series of the counts for each Country\n",
    "display_bar_chart(df, \"Country\", \"Where are you come from?\")"
   ]
  },
  {
   "cell_type": "code",
   "execution_count": 6,
   "metadata": {},
   "outputs": [
    {
     "data": {
      "image/png": "[encoded data removed]",
      "text/plain": [
       "<Figure size 432x288 with 1 Axes>"
      ]
     },
     "metadata": {
      "needs_background": "light"
     },
     "output_type": "display_data"
    }
   ],
   "source": [
    "#Provide a pandas series of the counts for each Employment status\n",
    "display_bar_chart(df, \"EmploymentStatus\", \"What is your Employment Status?\")"
   ]
  },
  {
   "cell_type": "code",
   "execution_count": 7,
   "metadata": {},
   "outputs": [
    {
     "data": {
      "image/png": "[encoded data removed]",
      "text/plain": [
       "<Figure size 432x288 with 1 Axes>"
      ]
     },
     "metadata": {
      "needs_background": "light"
     },
     "output_type": "display_data"
    }
   ],
   "source": [
    "#Provide a pandas series of the counts for each Overpaid status\n",
    "display_bar_chart(df, \"Overpaid\", \"What is your Overpaid Status?\")"
   ]
  },
  {
   "cell_type": "markdown",
   "metadata": {},
   "source": [
    "### Data preparation\n",
    "For categorical variables \"Country\", we seperate them into three sectors: western, eastern and other.\n",
    "The following code define the lists of related countries and create a new column to identify whether that person lives in the west or in the east."
   ]
  },
  {
   "cell_type": "code",
   "execution_count": 8,
   "metadata": {},
   "outputs": [],
   "source": [
    "def handling_country(df):\n",
    "    '''\n",
    "    \n",
    "    Return a dataframe with country seperate into west and east\n",
    "    \n",
    "    Parameters:\n",
    "    df: a raw data dataframe\n",
    "    \n",
    "    Returns:\n",
    "    df: a dataframe with a new column west_or_east\n",
    "    \n",
    "    '''\n",
    "    # For Categorical variables \"Country\", we seperate them into \n",
    "    # three sessions: western, eastern and other\n",
    "    # The following lists define the countries to western and eastern\n",
    "    western = ['United States', 'Liechtenstein', 'Switzerland', \n",
    "           'Iceland', 'Norway', 'Israel', 'Denmark', \n",
    "           'Ireland', 'Canada', 'United Kingdom', 'Germany', \n",
    "           'Netherlands', 'Sweden', 'Luxembourg', 'Austria', \n",
    "           'Finland', 'France', 'Belgium', 'Spain', 'Italy',\n",
    "           'Poland']\n",
    "\n",
    "    eastern = ['Thailand', 'Singapore', 'Hong Kong', \n",
    "           'South Korea', 'Japan', 'China', \n",
    "           'Taiwan', 'Malaysia', 'India', \n",
    "           'Indonesia', 'Vietnam']\n",
    "    \n",
    "    #Add a new catagory seperating to western and eastern\n",
    "    df['west_or_east'] = df['Country'].apply(lambda x: 'western' if x in western else ('eastern' if x in eastern else 'other'))\n",
    "    \n",
    "    return df"
   ]
  },
  {
   "cell_type": "markdown",
   "metadata": {},
   "source": [
    "Here we select some useful columns for our analysis.\n",
    "- Country: Country they are living\n",
    "- YearsCodedJob: Years they are coding\n",
    "- EmploymentStatus: Their employment status\n",
    "- Salary: Their Salary\n",
    "- JobSatisfaction & CareerSatisfaction: Are their satisfy their job and career\n",
    "- Overpaid: How they think about their salary\n",
    "\n",
    "We especially focus on employed full-time professional developer."
   ]
  },
  {
   "cell_type": "code",
   "execution_count": 9,
   "metadata": {},
   "outputs": [],
   "source": [
    "def data_preparation(df):\n",
    "    '''\n",
    "    \n",
    "    Return useful columns with query condition\n",
    "    \n",
    "    Parameters:\n",
    "    df: a raw data dataframe\n",
    "    \n",
    "    Returns:\n",
    "    useful_df: a filtered dataframe with only useful columns\n",
    "    \n",
    "    '''\n",
    "    #Get some useful columns for analysis\n",
    "    useful_columns = ['Country', 'YearsCodedJob', 'EmploymentStatus', 'CareerSatisfaction', 'JobSatisfaction', 'JobSeekingStatus', 'HoursPerWeek', 'Salary', 'west_or_east', 'Overpaid']\n",
    "    useful_df = pd.DataFrame(df.query(\"Professional == 'Professional developer' and (Gender == 'Male' or Gender == 'Female') and EmploymentStatus == 'Employed full-time'\"))[useful_columns]\n",
    "    return useful_df"
   ]
  },
  {
   "cell_type": "code",
   "execution_count": 10,
   "metadata": {},
   "outputs": [
    {
     "data": {
      "text/html": [
       "<div>\n",
       "<style scoped>\n",
       "    .dataframe tbody tr th:only-of-type {\n",
       "        vertical-align: middle;\n",
       "    }\n",
       "\n",
       "    .dataframe tbody tr th {\n",
       "        vertical-align: top;\n",
       "    }\n",
       "\n",
       "    .dataframe thead th {\n",
       "        text-align: right;\n",
       "    }\n",
       "</style>\n",
       "<table border=\"1\" class=\"dataframe\">\n",
       "  <thead>\n",
       "    <tr style=\"text-align: right;\">\n",
       "      <th></th>\n",
       "      <th>Country</th>\n",
       "      <th>YearsCodedJob</th>\n",
       "      <th>EmploymentStatus</th>\n",
       "      <th>CareerSatisfaction</th>\n",
       "      <th>JobSatisfaction</th>\n",
       "      <th>JobSeekingStatus</th>\n",
       "      <th>HoursPerWeek</th>\n",
       "      <th>Salary</th>\n",
       "      <th>west_or_east</th>\n",
       "      <th>Overpaid</th>\n",
       "    </tr>\n",
       "  </thead>\n",
       "  <tbody>\n",
       "    <tr>\n",
       "      <th>2</th>\n",
       "      <td>United Kingdom</td>\n",
       "      <td>20 or more years</td>\n",
       "      <td>Employed full-time</td>\n",
       "      <td>8.0</td>\n",
       "      <td>9.0</td>\n",
       "      <td>NaN</td>\n",
       "      <td>NaN</td>\n",
       "      <td>113750.0</td>\n",
       "      <td>western</td>\n",
       "      <td>Neither underpaid nor overpaid</td>\n",
       "    </tr>\n",
       "    <tr>\n",
       "      <th>7</th>\n",
       "      <td>Poland</td>\n",
       "      <td>7 to 8 years</td>\n",
       "      <td>Employed full-time</td>\n",
       "      <td>7.0</td>\n",
       "      <td>7.0</td>\n",
       "      <td>I'm not actively looking, but I am open to new...</td>\n",
       "      <td>1.0</td>\n",
       "      <td>NaN</td>\n",
       "      <td>western</td>\n",
       "      <td>NaN</td>\n",
       "    </tr>\n",
       "    <tr>\n",
       "      <th>8</th>\n",
       "      <td>Colombia</td>\n",
       "      <td>7 to 8 years</td>\n",
       "      <td>Employed full-time</td>\n",
       "      <td>6.0</td>\n",
       "      <td>6.0</td>\n",
       "      <td>I am not interested in new job opportunities</td>\n",
       "      <td>2.0</td>\n",
       "      <td>NaN</td>\n",
       "      <td>other</td>\n",
       "      <td>Neither underpaid nor overpaid</td>\n",
       "    </tr>\n",
       "    <tr>\n",
       "      <th>13</th>\n",
       "      <td>Germany</td>\n",
       "      <td>15 to 16 years</td>\n",
       "      <td>Employed full-time</td>\n",
       "      <td>8.0</td>\n",
       "      <td>6.0</td>\n",
       "      <td>I am actively looking for a job</td>\n",
       "      <td>3.0</td>\n",
       "      <td>NaN</td>\n",
       "      <td>western</td>\n",
       "      <td>NaN</td>\n",
       "    </tr>\n",
       "    <tr>\n",
       "      <th>14</th>\n",
       "      <td>United Kingdom</td>\n",
       "      <td>20 or more years</td>\n",
       "      <td>Employed full-time</td>\n",
       "      <td>8.0</td>\n",
       "      <td>8.0</td>\n",
       "      <td>NaN</td>\n",
       "      <td>NaN</td>\n",
       "      <td>100000.0</td>\n",
       "      <td>western</td>\n",
       "      <td>Somewhat underpaid</td>\n",
       "    </tr>\n",
       "  </tbody>\n",
       "</table>\n",
       "</div>"
      ],
      "text/plain": [
       "           Country     YearsCodedJob    EmploymentStatus  CareerSatisfaction  \\\n",
       "2   United Kingdom  20 or more years  Employed full-time                 8.0   \n",
       "7           Poland      7 to 8 years  Employed full-time                 7.0   \n",
       "8         Colombia      7 to 8 years  Employed full-time                 6.0   \n",
       "13         Germany    15 to 16 years  Employed full-time                 8.0   \n",
       "14  United Kingdom  20 or more years  Employed full-time                 8.0   \n",
       "\n",
       "    JobSatisfaction                                   JobSeekingStatus  \\\n",
       "2               9.0                                                NaN   \n",
       "7               7.0  I'm not actively looking, but I am open to new...   \n",
       "8               6.0       I am not interested in new job opportunities   \n",
       "13              6.0                    I am actively looking for a job   \n",
       "14              8.0                                                NaN   \n",
       "\n",
       "    HoursPerWeek    Salary west_or_east                        Overpaid  \n",
       "2            NaN  113750.0      western  Neither underpaid nor overpaid  \n",
       "7            1.0       NaN      western                             NaN  \n",
       "8            2.0       NaN        other  Neither underpaid nor overpaid  \n",
       "13           3.0       NaN      western                             NaN  \n",
       "14           NaN  100000.0      western              Somewhat underpaid  "
      ]
     },
     "execution_count": 10,
     "metadata": {},
     "output_type": "execute_result"
    }
   ],
   "source": [
    "#Get some useful columns for analysis\n",
    "df = handling_country(df)\n",
    "useful_df = data_preparation(df)\n",
    "useful_df.head()"
   ]
  },
  {
   "cell_type": "markdown",
   "metadata": {},
   "source": [
    "For categorical variable Overpaid, we transfer it to calculatable integer value because we want to find out the mean of their opinion.\n",
    "The following code shows the mapping."
   ]
  },
  {
   "cell_type": "code",
   "execution_count": 11,
   "metadata": {},
   "outputs": [],
   "source": [
    "def handling_overpaid(df):\n",
    "    \"\"\"\n",
    "    \n",
    "    Convert Overpaid from words to integer for calculating the mean\n",
    "    \n",
    "    Parameters:\n",
    "    df: a dataframe that will be converted\n",
    "    \n",
    "    Returns:\n",
    "    dataframe: a converted dataframe with Overpaid column becomes measurable\n",
    "    \n",
    "    \"\"\"\n",
    "    overpaid_map = {\n",
    "        'Greatly underpaid' : 1,\n",
    "        'Somewhat underpaid' : 2,\n",
    "        'Neither underpaid nor overpaid' : 3,\n",
    "        'Somewhat overpaid' : 4,\n",
    "        'Greatly overpaid' : 5,\n",
    "        np.nan: np.nan\n",
    "    }\n",
    "    df['Overpaid'] = df['Overpaid'].apply(lambda x: np.nan if x == np.nan else overpaid_map[x] )\n",
    "    \n",
    "    return df"
   ]
  },
  {
   "cell_type": "markdown",
   "metadata": {},
   "source": [
    "Here we group the dataframe by west_or_east and YearsCodedJob, and get their mean, it automatically ignore the missing or null value."
   ]
  },
  {
   "cell_type": "code",
   "execution_count": 12,
   "metadata": {},
   "outputs": [
    {
     "data": {
      "text/html": [
       "<div>\n",
       "<style scoped>\n",
       "    .dataframe tbody tr th:only-of-type {\n",
       "        vertical-align: middle;\n",
       "    }\n",
       "\n",
       "    .dataframe tbody tr th {\n",
       "        vertical-align: top;\n",
       "    }\n",
       "\n",
       "    .dataframe thead th {\n",
       "        text-align: right;\n",
       "    }\n",
       "</style>\n",
       "<table border=\"1\" class=\"dataframe\">\n",
       "  <thead>\n",
       "    <tr style=\"text-align: right;\">\n",
       "      <th></th>\n",
       "      <th></th>\n",
       "      <th>CareerSatisfaction</th>\n",
       "      <th>JobSatisfaction</th>\n",
       "      <th>HoursPerWeek</th>\n",
       "      <th>Salary</th>\n",
       "      <th>Overpaid</th>\n",
       "    </tr>\n",
       "    <tr>\n",
       "      <th>west_or_east</th>\n",
       "      <th>YearsCodedJob</th>\n",
       "      <th></th>\n",
       "      <th></th>\n",
       "      <th></th>\n",
       "      <th></th>\n",
       "      <th></th>\n",
       "    </tr>\n",
       "  </thead>\n",
       "  <tbody>\n",
       "    <tr>\n",
       "      <th rowspan=\"5\" valign=\"top\">eastern</th>\n",
       "      <th>1 to 2 years</th>\n",
       "      <td>6.624444</td>\n",
       "      <td>5.891111</td>\n",
       "      <td>5.653696</td>\n",
       "      <td>7742.553472</td>\n",
       "      <td>2.082418</td>\n",
       "    </tr>\n",
       "    <tr>\n",
       "      <th>10 to 11 years</th>\n",
       "      <td>7.500000</td>\n",
       "      <td>6.550000</td>\n",
       "      <td>3.720000</td>\n",
       "      <td>33318.461069</td>\n",
       "      <td>2.461538</td>\n",
       "    </tr>\n",
       "    <tr>\n",
       "      <th>11 to 12 years</th>\n",
       "      <td>7.342857</td>\n",
       "      <td>6.828571</td>\n",
       "      <td>3.733333</td>\n",
       "      <td>41902.774227</td>\n",
       "      <td>2.384615</td>\n",
       "    </tr>\n",
       "    <tr>\n",
       "      <th>12 to 13 years</th>\n",
       "      <td>7.176471</td>\n",
       "      <td>6.088235</td>\n",
       "      <td>4.937500</td>\n",
       "      <td>53430.910772</td>\n",
       "      <td>2.428571</td>\n",
       "    </tr>\n",
       "    <tr>\n",
       "      <th>13 to 14 years</th>\n",
       "      <td>7.333333</td>\n",
       "      <td>7.666667</td>\n",
       "      <td>26.000000</td>\n",
       "      <td>50170.185287</td>\n",
       "      <td>2.500000</td>\n",
       "    </tr>\n",
       "    <tr>\n",
       "      <th>...</th>\n",
       "      <th>...</th>\n",
       "      <td>...</td>\n",
       "      <td>...</td>\n",
       "      <td>...</td>\n",
       "      <td>...</td>\n",
       "      <td>...</td>\n",
       "    </tr>\n",
       "    <tr>\n",
       "      <th rowspan=\"5\" valign=\"top\">western</th>\n",
       "      <th>6 to 7 years</th>\n",
       "      <td>7.644114</td>\n",
       "      <td>7.177267</td>\n",
       "      <td>2.211039</td>\n",
       "      <td>69648.807261</td>\n",
       "      <td>2.446512</td>\n",
       "    </tr>\n",
       "    <tr>\n",
       "      <th>7 to 8 years</th>\n",
       "      <td>7.532209</td>\n",
       "      <td>7.179724</td>\n",
       "      <td>2.138060</td>\n",
       "      <td>70236.572056</td>\n",
       "      <td>2.431525</td>\n",
       "    </tr>\n",
       "    <tr>\n",
       "      <th>8 to 9 years</th>\n",
       "      <td>7.558304</td>\n",
       "      <td>7.072438</td>\n",
       "      <td>2.096491</td>\n",
       "      <td>76314.628263</td>\n",
       "      <td>2.432927</td>\n",
       "    </tr>\n",
       "    <tr>\n",
       "      <th>9 to 10 years</th>\n",
       "      <td>7.476000</td>\n",
       "      <td>6.988000</td>\n",
       "      <td>2.148026</td>\n",
       "      <td>74142.281505</td>\n",
       "      <td>2.430524</td>\n",
       "    </tr>\n",
       "    <tr>\n",
       "      <th>Less than a year</th>\n",
       "      <td>7.811526</td>\n",
       "      <td>7.648438</td>\n",
       "      <td>1.818627</td>\n",
       "      <td>47639.855006</td>\n",
       "      <td>2.510870</td>\n",
       "    </tr>\n",
       "  </tbody>\n",
       "</table>\n",
       "<p>63 rows × 5 columns</p>\n",
       "</div>"
      ],
      "text/plain": [
       "                               CareerSatisfaction  JobSatisfaction  \\\n",
       "west_or_east YearsCodedJob                                           \n",
       "eastern      1 to 2 years                6.624444         5.891111   \n",
       "             10 to 11 years              7.500000         6.550000   \n",
       "             11 to 12 years              7.342857         6.828571   \n",
       "             12 to 13 years              7.176471         6.088235   \n",
       "             13 to 14 years              7.333333         7.666667   \n",
       "...                                           ...              ...   \n",
       "western      6 to 7 years                7.644114         7.177267   \n",
       "             7 to 8 years                7.532209         7.179724   \n",
       "             8 to 9 years                7.558304         7.072438   \n",
       "             9 to 10 years               7.476000         6.988000   \n",
       "             Less than a year            7.811526         7.648438   \n",
       "\n",
       "                               HoursPerWeek        Salary  Overpaid  \n",
       "west_or_east YearsCodedJob                                           \n",
       "eastern      1 to 2 years          5.653696   7742.553472  2.082418  \n",
       "             10 to 11 years        3.720000  33318.461069  2.461538  \n",
       "             11 to 12 years        3.733333  41902.774227  2.384615  \n",
       "             12 to 13 years        4.937500  53430.910772  2.428571  \n",
       "             13 to 14 years       26.000000  50170.185287  2.500000  \n",
       "...                                     ...           ...       ...  \n",
       "western      6 to 7 years          2.211039  69648.807261  2.446512  \n",
       "             7 to 8 years          2.138060  70236.572056  2.431525  \n",
       "             8 to 9 years          2.096491  76314.628263  2.432927  \n",
       "             9 to 10 years         2.148026  74142.281505  2.430524  \n",
       "             Less than a year      1.818627  47639.855006  2.510870  \n",
       "\n",
       "[63 rows x 5 columns]"
      ]
     },
     "execution_count": 12,
     "metadata": {},
     "output_type": "execute_result"
    }
   ],
   "source": [
    "#Compare selected indicators between western and eastern\n",
    "useful_df = handling_overpaid(useful_df)\n",
    "comparison = useful_df.groupby(['west_or_east','YearsCodedJob']).mean()\n",
    "comparison"
   ]
  },
  {
   "cell_type": "markdown",
   "metadata": {},
   "source": [
    "For categorical variable YearsCodedJob, we transfer it to calculatable integer value because we want to find out the mean of how long they have been coded.\n",
    "The following code shows the mapping."
   ]
  },
  {
   "cell_type": "code",
   "execution_count": 13,
   "metadata": {},
   "outputs": [],
   "source": [
    "def handling_yearscodedjob(df):\n",
    "    \"\"\"\n",
    "    \n",
    "    Convert the working year to integer for calculating the mean\n",
    "    \n",
    "    Parameters:\n",
    "    df: a dataframe that will be converted\n",
    "    \n",
    "    Returns:\n",
    "    dataframe: a converted dataframe with YearsCodedJob column becomes measurable\n",
    "    \n",
    "    \"\"\"\n",
    "    year_map = {'1 to 2 years' : 1, \n",
    "                '10 to 11 years' : 10, \n",
    "                '11 to 12 years' : 11, \n",
    "                '12 to 13 years' : 12,\n",
    "                '13 to 14 years' : 13, \n",
    "                '14 to 15 years' : 14, \n",
    "                '15 to 16 years' : 15, \n",
    "                '16 to 17 years' : 16,\n",
    "                '17 to 18 years' : 17, \n",
    "                '18 to 19 years' : 18, \n",
    "                '19 to 20 years' : 19, \n",
    "                '2 to 3 years' : 2,\n",
    "                '20 or more years' : 20, \n",
    "                '3 to 4 years' : 3, \n",
    "                '4 to 5 years' : 4, \n",
    "                '5 to 6 years' : 5, \n",
    "                '6 to 7 years' : 6, \n",
    "                '7 to 8 years' : 7, \n",
    "                '8 to 9 years' : 8, \n",
    "                '9 to 10 years' : 9, \n",
    "                'Less than a year' : 0}\n",
    "    \n",
    "    df_graph = df.reset_index()\n",
    "    df_graph['YearsCodedJob'] = df_graph['YearsCodedJob'].apply(lambda x: year_map[x])\n",
    "    df_graph['YearsCodedJob'] = pd.to_numeric(df_graph['YearsCodedJob'])\n",
    "    \n",
    "    return df_graph"
   ]
  },
  {
   "cell_type": "code",
   "execution_count": 14,
   "metadata": {},
   "outputs": [],
   "source": [
    "comparison_graph = handling_yearscodedjob(comparison)\n",
    "comparison_graph = comparison_graph.sort_values(by='YearsCodedJob')"
   ]
  },
  {
   "cell_type": "code",
   "execution_count": 15,
   "metadata": {},
   "outputs": [],
   "source": [
    "comparison_graph.set_index('YearsCodedJob', inplace=True)"
   ]
  },
  {
   "cell_type": "markdown",
   "metadata": {},
   "source": [
    "### Restuls Evaluation\n",
    "In this section, we will display the findings and discuss about it."
   ]
  },
  {
   "cell_type": "markdown",
   "metadata": {},
   "source": [
    "Here you can see a programmer’s salary in the east is much lower than that in the west no matter how many years you are coding."
   ]
  },
  {
   "cell_type": "code",
   "execution_count": 16,
   "metadata": {},
   "outputs": [
    {
     "data": {
      "text/plain": [
       "Text(0, 0.5, 'Average Salary')"
      ]
     },
     "execution_count": 16,
     "metadata": {},
     "output_type": "execute_result"
    },
    {
     "data": {
      "image/png": "[encoded data removed]",
      "text/plain": [
       "<Figure size 432x288 with 1 Axes>"
      ]
     },
     "metadata": {
      "needs_background": "light"
     },
     "output_type": "display_data"
    }
   ],
   "source": [
    "#Plot the Salary Comparison between Western World and Eastern World\n",
    "comparison_graph.groupby('west_or_east')['Salary'].plot(legend=True)\n",
    "plt.title(\"Salary Comparison between Western World and Eastern World\");\n",
    "plt.xlabel('YearsCodedJob')\n",
    "plt.ylabel('Average Salary')"
   ]
  },
  {
   "cell_type": "markdown",
   "metadata": {},
   "source": [
    "The lines represent how they think they are overpaid, with a higher mark indicates the more they think they are overpaid.\n",
    "\n",
    "You can see that eastern programmers (blue line) feel more underpaid in their whole careers than western programmers (green line)"
   ]
  },
  {
   "cell_type": "code",
   "execution_count": 17,
   "metadata": {},
   "outputs": [
    {
     "data": {
      "text/plain": [
       "Text(0, 0.5, 'Overpaid')"
      ]
     },
     "execution_count": 17,
     "metadata": {},
     "output_type": "execute_result"
    },
    {
     "data": {
      "image/png": "[encoded data removed]",
      "text/plain": [
       "<Figure size 432x288 with 1 Axes>"
      ]
     },
     "metadata": {
      "needs_background": "light"
     },
     "output_type": "display_data"
    }
   ],
   "source": [
    "#Plot how the programmer thinks they are overpaid or not\n",
    "comparison_graph.groupby('west_or_east')['Overpaid'].plot(legend=True)\n",
    "plt.title(\"Do you think you are overpaid?\");\n",
    "plt.xlabel('YearsCodedJob')\n",
    "plt.ylabel('Overpaid')"
   ]
  },
  {
   "cell_type": "code",
   "execution_count": 18,
   "metadata": {},
   "outputs": [
    {
     "data": {
      "text/plain": [
       "west_or_east\n",
       "eastern    7.123803\n",
       "other      7.503250\n",
       "western    7.576207\n",
       "Name: CareerSatisfaction, dtype: float64"
      ]
     },
     "execution_count": 18,
     "metadata": {},
     "output_type": "execute_result"
    }
   ],
   "source": [
    "comparison.groupby('west_or_east').mean().CareerSatisfaction"
   ]
  },
  {
   "cell_type": "code",
   "execution_count": 19,
   "metadata": {},
   "outputs": [
    {
     "data": {
      "text/plain": [
       "west_or_east\n",
       "eastern    6.623020\n",
       "other      7.062847\n",
       "western    7.122752\n",
       "Name: JobSatisfaction, dtype: float64"
      ]
     },
     "execution_count": 19,
     "metadata": {},
     "output_type": "execute_result"
    }
   ],
   "source": [
    "comparison.groupby('west_or_east').mean().JobSatisfaction"
   ]
  },
  {
   "cell_type": "code",
   "execution_count": 20,
   "metadata": {},
   "outputs": [
    {
     "data": {
      "text/plain": [
       "west_or_east\n",
       "eastern     627.927284\n",
       "other       743.536241\n",
       "western    1529.287081\n",
       "Name: Salary, dtype: float64"
      ]
     },
     "execution_count": 20,
     "metadata": {},
     "output_type": "execute_result"
    }
   ],
   "source": [
    "comparison.groupby('west_or_east').mean().Salary/50"
   ]
  },
  {
   "cell_type": "markdown",
   "metadata": {},
   "source": [
    "Here, we can see that western programmers (blue ball) have a much higher satisfaction on their job and career, positioned at the right-high-up corner. The ball size indicator their average salary, the blue ball size is much larger than the red ball (eastern programmers salary)."
   ]
  },
  {
   "cell_type": "code",
   "execution_count": 21,
   "metadata": {},
   "outputs": [
    {
     "data": {
      "text/plain": [
       "Text(0, 0.5, 'Job Satisfaction')"
      ]
     },
     "execution_count": 21,
     "metadata": {},
     "output_type": "execute_result"
    },
    {
     "data": {
      "image/png": "[encoded data removed]",
      "text/plain": [
       "<Figure size 432x288 with 1 Axes>"
      ]
     },
     "metadata": {
      "needs_background": "light"
     },
     "output_type": "display_data"
    }
   ],
   "source": [
    "#Plot Comparison of Career and Job Satisfaction between Western and Eastern\n",
    "plt.scatter(comparison.groupby('west_or_east').mean().CareerSatisfaction, comparison.groupby('west_or_east').mean().JobSatisfaction, comparison.groupby('west_or_east').mean().Salary/50, c=['red','green','blue'])\n",
    "\n",
    "plt.title('Comparison of Career and Job Satisfaction\\n(Red: Eastern; Green: Other; Blue: Western)')\n",
    "plt.xlabel('Career Satisfaction')\n",
    "plt.ylabel('Job Satisfaction')"
   ]
  },
  {
   "cell_type": "markdown",
   "metadata": {},
   "source": [
    "### Conclusion\n",
    "- We compared the salary based on Years a programmer has been coded between the eastern world and the western world. We found that the salary of an eastern programmer is much lower than that of the western no matter how many years they are coded.\n",
    "- We then looked at how different between the viewpoints that both west and east think if they are underpaid. This showed that more eastern programmers always think that they are underpaid than the western programmers no matter how many years they are coded.\n",
    "- Finally, we found that the Career and Job Satisfaction of the western programmers are much higher than those of the eastern programmers."
   ]
  },
  {
   "cell_type": "code",
   "execution_count": null,
   "metadata": {},
   "outputs": [],
   "source": []
  }
 ],
 "metadata": {
  "kernelspec": {
   "display_name": "Python 3",
   "language": "python",
   "name": "python3"
  },
  "language_info": {
   "codemirror_mode": {
    "name": "ipython",
    "version": 3
   },
   "file_extension": ".py",
   "mimetype": "text/x-python",
   "name": "python",
   "nbconvert_exporter": "python",
   "pygments_lexer": "ipython3",
   "version": "3.7.3"
  }
 },
 "nbformat": 4,
 "nbformat_minor": 2
}
